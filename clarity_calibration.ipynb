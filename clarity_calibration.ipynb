{
  "nbformat": 4,
  "nbformat_minor": 0,
  "metadata": {
    "colab": {
      "provenance": [],
      "mount_file_id": "1lYcIgRZx2vRfZ-dy9RhORdztxpiZyyjS",
      "authorship_tag": "ABX9TyPKL4r6QmfOg/HgMfvPSvDu",
      "include_colab_link": true
    },
    "kernelspec": {
      "name": "python3",
      "display_name": "Python 3"
    },
    "language_info": {
      "name": "python"
    }
  },
  "cells": [
    {
      "cell_type": "markdown",
      "metadata": {
        "id": "view-in-github",
        "colab_type": "text"
      },
      "source": [
        "<a href=\"https://colab.research.google.com/github/Heart-n-Soul/AI-Crash-Course/blob/main/clarity_calibration.ipynb\" target=\"_parent\"><img src=\"https://colab.research.google.com/assets/colab-badge.svg\" alt=\"Open In Colab\"/></a>"
      ]
    },
    {
      "cell_type": "code",
      "execution_count": 1,
      "metadata": {
        "id": "MPjDnrxHH1WD"
      },
      "outputs": [],
      "source": [
        "import pandas as pd\n",
        "from datetime import datetime\n",
        "from scipy.stats import linregress\n",
        "from sklearn.model_selection import train_test_split\n",
        "from sklearn.linear_model import LinearRegression\n",
        "from sklearn.metrics import mean_absolute_error, r2_score\n",
        "import matplotlib.pyplot as plt\n",
        "import glob"
      ]
    },
    {
      "cell_type": "code",
      "source": [
        "sensor_data = pd.read_excel('/content/drive/MyDrive/clarity.xlsx')\n",
        "print(sensor_data)"
      ],
      "metadata": {
        "colab": {
          "base_uri": "https://localhost:8080/"
        },
        "id": "LER8y9rNIB_r",
        "outputId": "909984b4-e783-4ca9-fc91-dfd7ba84ba5e"
      },
      "execution_count": 4,
      "outputs": [
        {
          "output_type": "stream",
          "name": "stdout",
          "text": [
            "                     date         FEM    Clarity  Clarity_T  Clarity_RH  \\\n",
            "0     2023-11-14 08:44:00   19.731717  10.955000  30.180000   72.230000   \n",
            "1     2023-11-14 08:59:00   17.100782  11.423333  30.533333   71.066667   \n",
            "2     2023-11-14 09:14:00   16.353123  12.030000  31.395000   69.225000   \n",
            "3     2023-11-14 09:29:00   16.940600  13.895000  32.045000   67.765000   \n",
            "4     2023-11-14 09:44:00   18.025315  13.916667  31.983333   66.833333   \n",
            "...                   ...         ...        ...        ...         ...   \n",
            "16525 2024-12-23 16:14:00  110.106467  32.596667  34.146667   42.643333   \n",
            "16526 2024-12-23 16:29:00  111.473247  33.636667  33.590000   44.643333   \n",
            "16527 2024-12-23 16:44:00  110.183840  32.853333  33.030000   47.176667   \n",
            "16528 2024-12-23 16:59:00  108.772247  31.743333  32.370000   48.716667   \n",
            "16529 2024-12-23 17:14:00  108.418053  31.946667  31.700000   53.396667   \n",
            "\n",
            "              RH       Temp  \n",
            "0      97.046667  29.433333  \n",
            "1      94.800000  29.730667  \n",
            "2      91.286667  30.789333  \n",
            "3      90.613333  30.547333  \n",
            "4      90.773333  30.482667  \n",
            "...          ...        ...  \n",
            "16525  55.662667  31.981333  \n",
            "16526  57.981333  31.618000  \n",
            "16527  61.174667  31.188000  \n",
            "16528  62.730667  30.838000  \n",
            "16529  68.564000  30.421333  \n",
            "\n",
            "[16530 rows x 7 columns]\n"
          ]
        }
      ]
    },
    {
      "cell_type": "code",
      "source": [
        "sensor_data['date'] = pd.to_datetime(sensor_data['date'])"
      ],
      "metadata": {
        "id": "nmliKKlHIFlD"
      },
      "execution_count": 5,
      "outputs": []
    },
    {
      "cell_type": "code",
      "source": [
        "print(sensor_data.info())"
      ],
      "metadata": {
        "colab": {
          "base_uri": "https://localhost:8080/"
        },
        "id": "LnT4LwMYIZq7",
        "outputId": "c778e4e3-91bb-450c-f517-c45862f36a94"
      },
      "execution_count": 6,
      "outputs": [
        {
          "output_type": "stream",
          "name": "stdout",
          "text": [
            "<class 'pandas.core.frame.DataFrame'>\n",
            "RangeIndex: 16530 entries, 0 to 16529\n",
            "Data columns (total 7 columns):\n",
            " #   Column      Non-Null Count  Dtype         \n",
            "---  ------      --------------  -----         \n",
            " 0   date        16530 non-null  datetime64[ns]\n",
            " 1   FEM         16530 non-null  float64       \n",
            " 2   Clarity     16530 non-null  float64       \n",
            " 3   Clarity_T   16530 non-null  float64       \n",
            " 4   Clarity_RH  16530 non-null  float64       \n",
            " 5   RH          16530 non-null  float64       \n",
            " 6   Temp        16530 non-null  float64       \n",
            "dtypes: datetime64[ns](1), float64(6)\n",
            "memory usage: 904.1 KB\n",
            "None\n"
          ]
        }
      ]
    },
    {
      "cell_type": "code",
      "source": [
        "sensor_data.set_index('date', inplace=True)"
      ],
      "metadata": {
        "id": "ciCyg525Ibn4"
      },
      "execution_count": 7,
      "outputs": []
    },
    {
      "cell_type": "code",
      "source": [
        "print(sensor_data.describe())"
      ],
      "metadata": {
        "colab": {
          "base_uri": "https://localhost:8080/"
        },
        "id": "DxQ7JaEyIm_i",
        "outputId": "7fe117a9-0db6-4513-ff4f-60a4abcacf32"
      },
      "execution_count": 8,
      "outputs": [
        {
          "output_type": "stream",
          "name": "stdout",
          "text": [
            "                FEM       Clarity     Clarity_T    Clarity_RH            RH  \\\n",
            "count  16530.000000  16530.000000  16530.000000  16530.000000  16530.000000   \n",
            "mean      37.981607     20.039797     31.813497     64.373619     82.463238   \n",
            "std       48.460312     18.045783      3.461284     10.947689     12.903032   \n",
            "min        1.629428      2.713333     23.240000     19.230000     25.707333   \n",
            "25%       12.561435      9.040000     29.070000     57.643333     75.648167   \n",
            "50%       19.377593     13.273333     31.815000     65.627500     84.313333   \n",
            "75%       37.957956     24.056667     34.680000     73.065000     92.633333   \n",
            "max      385.545220    194.233333     39.610000     83.800000     99.000000   \n",
            "\n",
            "               Temp  \n",
            "count  16530.000000  \n",
            "mean      30.604157  \n",
            "std        2.496497  \n",
            "min       23.977333  \n",
            "25%       28.719333  \n",
            "50%       30.594333  \n",
            "75%       32.577167  \n",
            "max       66.038000  \n"
          ]
        }
      ]
    },
    {
      "cell_type": "code",
      "source": [
        "sensor_data.plot(y=['FEM', 'Clarity'],marker='.',linestyle='none')"
      ],
      "metadata": {
        "colab": {
          "base_uri": "https://localhost:8080/",
          "height": 452
        },
        "id": "0Lsx7PzoIpWZ",
        "outputId": "8012e235-e5ba-4827-d330-8e5adae8fe78"
      },
      "execution_count": 9,
      "outputs": [
        {
          "output_type": "execute_result",
          "data": {
            "text/plain": [
              "<Axes: xlabel='date'>"
            ]
          },
          "metadata": {},
          "execution_count": 9
        },
        {
          "output_type": "display_data",
          "data": {
            "text/plain": [
              "<Figure size 640x480 with 1 Axes>"
            ],
            "image/png": "[encoded data removed]"
          },
          "metadata": {}
        }
      ]
    },
    {
      "cell_type": "code",
      "source": [
        "sensor_data.plot(y=['FEM', 'Clarity'])"
      ],
      "metadata": {
        "colab": {
          "base_uri": "https://localhost:8080/",
          "height": 452
        },
        "id": "KAZPyqwWLnWE",
        "outputId": "7b844218-b634-4599-c02b-85e91ed78a3c"
      },
      "execution_count": 10,
      "outputs": [
        {
          "output_type": "execute_result",
          "data": {
            "text/plain": [
              "<Axes: xlabel='date'>"
            ]
          },
          "metadata": {},
          "execution_count": 10
        },
        {
          "output_type": "display_data",
          "data": {
            "text/plain": [
              "<Figure size 640x480 with 1 Axes>"
            ],
            "image/png": "[encoded data removed]"
          },
          "metadata": {}
        }
      ]
    },
    {
      "cell_type": "code",
      "source": [
        "def rsquared(x, y):\n",
        "    \"\"\" Return R^2 where x and y are array-like.\"\"\"\n",
        "\n",
        "    slope, intercept, r_value, p_value, std_err = linregress(x, y)\n",
        "    return r_value**2\n",
        "\n",
        "R2_raw = rsquared(sensor_data['FEM'],\n",
        "                              sensor_data['Clarity'])\n",
        "MAE_raw = mean_absolute_error(sensor_data['FEM'],\n",
        "                              sensor_data['Clarity'])\n",
        "print(\"R2 is \", R2_raw)\n",
        "print(\"MAE is \", MAE_raw)"
      ],
      "metadata": {
        "colab": {
          "base_uri": "https://localhost:8080/"
        },
        "id": "9K8Ql9FPLyHn",
        "outputId": "1581c15d-c6ad-420c-d9f2-2bff925c478a"
      },
      "execution_count": 11,
      "outputs": [
        {
          "output_type": "stream",
          "name": "stdout",
          "text": [
            "R2 is  0.8848998104073214\n",
            "MAE is  18.115890461632254\n"
          ]
        }
      ]
    },
    {
      "cell_type": "code",
      "source": [],
      "metadata": {
        "id": "HLjMioRxTTYh"
      },
      "execution_count": null,
      "outputs": []
    },
    {
      "cell_type": "code",
      "source": [
        "train, test = train_test_split(sensor_data, test_size=0.2, random_state=70)"
      ],
      "metadata": {
        "id": "9wc2JnkWJQsc"
      },
      "execution_count": 23,
      "outputs": []
    },
    {
      "cell_type": "code",
      "source": [
        "sensor_data.columns"
      ],
      "metadata": {
        "colab": {
          "base_uri": "https://localhost:8080/"
        },
        "id": "Jd6nS8_GNK54",
        "outputId": "d415106a-1092-48e7-d729-463f550f8d34"
      },
      "execution_count": 24,
      "outputs": [
        {
          "output_type": "execute_result",
          "data": {
            "text/plain": [
              "Index(['FEM', 'Clarity', 'Clarity_T', 'Clarity_RH', 'RH', 'Temp', 'Clarity_c'], dtype='object')"
            ]
          },
          "metadata": {},
          "execution_count": 24
        }
      ]
    },
    {
      "cell_type": "code",
      "source": [
        "# Create MLR model\n",
        "model = LinearRegression()\n",
        "model.fit(train[['Clarity', 'Clarity_T', 'Clarity_RH']], train['FEM'])"
      ],
      "metadata": {
        "colab": {
          "base_uri": "https://localhost:8080/",
          "height": 80
        },
        "id": "44F33qW_NFjk",
        "outputId": "57120ddd-2c6b-4ac7-f847-26077c6c30d7"
      },
      "execution_count": 25,
      "outputs": [
        {
          "output_type": "execute_result",
          "data": {
            "text/plain": [
              "LinearRegression()"
            ],
            "text/html": [
              "<style>#sk-container-id-2 {\n",
              "  /* Definition of color scheme common for light and dark mode */\n",
              "  --sklearn-color-text: #000;\n",
              "  --sklearn-color-text-muted: #666;\n",
              "  --sklearn-color-line: gray;\n",
              "  /* Definition of color scheme for unfitted estimators */\n",
              "  --sklearn-color-unfitted-level-0: #fff5e6;\n",
              "  --sklearn-color-unfitted-level-1: #f6e4d2;\n",
              "  --sklearn-color-unfitted-level-2: #ffe0b3;\n",
              "  --sklearn-color-unfitted-level-3: chocolate;\n",
              "  /* Definition of color scheme for fitted estimators */\n",
              "  --sklearn-color-fitted-level-0: #f0f8ff;\n",
              "  --sklearn-color-fitted-level-1: #d4ebff;\n",
              "  --sklearn-color-fitted-level-2: #b3dbfd;\n",
              "  --sklearn-color-fitted-level-3: cornflowerblue;\n",
              "\n",
              "  /* Specific color for light theme */\n",
              "  --sklearn-color-text-on-default-background: var(--sg-text-color, var(--theme-code-foreground, var(--jp-content-font-color1, black)));\n",
              "  --sklearn-color-background: var(--sg-background-color, var(--theme-background, var(--jp-layout-color0, white)));\n",
              "  --sklearn-color-border-box: var(--sg-text-color, var(--theme-code-foreground, var(--jp-content-font-color1, black)));\n",
              "  --sklearn-color-icon: #696969;\n",
              "\n",
              "  @media (prefers-color-scheme: dark) {\n",
              "    /* Redefinition of color scheme for dark theme */\n",
              "    --sklearn-color-text-on-default-background: var(--sg-text-color, var(--theme-code-foreground, var(--jp-content-font-color1, white)));\n",
              "    --sklearn-color-background: var(--sg-background-color, var(--theme-background, var(--jp-layout-color0, #111)));\n",
              "    --sklearn-color-border-box: var(--sg-text-color, var(--theme-code-foreground, var(--jp-content-font-color1, white)));\n",
              "    --sklearn-color-icon: #878787;\n",
              "  }\n",
              "}\n",
              "\n",
              "#sk-container-id-2 {\n",
              "  color: var(--sklearn-color-text);\n",
              "}\n",
              "\n",
              "#sk-container-id-2 pre {\n",
              "  padding: 0;\n",
              "}\n",
              "\n",
              "#sk-container-id-2 input.sk-hidden--visually {\n",
              "  border: 0;\n",
              "  clip: rect(1px 1px 1px 1px);\n",
              "  clip: rect(1px, 1px, 1px, 1px);\n",
              "  height: 1px;\n",
              "  margin: -1px;\n",
              "  overflow: hidden;\n",
              "  padding: 0;\n",
              "  position: absolute;\n",
              "  width: 1px;\n",
              "}\n",
              "\n",
              "#sk-container-id-2 div.sk-dashed-wrapped {\n",
              "  border: 1px dashed var(--sklearn-color-line);\n",
              "  margin: 0 0.4em 0.5em 0.4em;\n",
              "  box-sizing: border-box;\n",
              "  padding-bottom: 0.4em;\n",
              "  background-color: var(--sklearn-color-background);\n",
              "}\n",
              "\n",
              "#sk-container-id-2 div.sk-container {\n",
              "  /* jupyter's `normalize.less` sets `[hidden] { display: none; }`\n",
              "     but bootstrap.min.css set `[hidden] { display: none !important; }`\n",
              "     so we also need the `!important` here to be able to override the\n",
              "     default hidden behavior on the sphinx rendered scikit-learn.org.\n",
              "     See: https://github.com/scikit-learn/scikit-learn/issues/21755 */\n",
              "  display: inline-block !important;\n",
              "  position: relative;\n",
              "}\n",
              "\n",
              "#sk-container-id-2 div.sk-text-repr-fallback {\n",
              "  display: none;\n",
              "}\n",
              "\n",
              "div.sk-parallel-item,\n",
              "div.sk-serial,\n",
              "div.sk-item {\n",
              "  /* draw centered vertical line to link estimators */\n",
              "  background-image: linear-gradient(var(--sklearn-color-text-on-default-background), var(--sklearn-color-text-on-default-background));\n",
              "  background-size: 2px 100%;\n",
              "  background-repeat: no-repeat;\n",
              "  background-position: center center;\n",
              "}\n",
              "\n",
              "/* Parallel-specific style estimator block */\n",
              "\n",
              "#sk-container-id-2 div.sk-parallel-item::after {\n",
              "  content: \"\";\n",
              "  width: 100%;\n",
              "  border-bottom: 2px solid var(--sklearn-color-text-on-default-background);\n",
              "  flex-grow: 1;\n",
              "}\n",
              "\n",
              "#sk-container-id-2 div.sk-parallel {\n",
              "  display: flex;\n",
              "  align-items: stretch;\n",
              "  justify-content: center;\n",
              "  background-color: var(--sklearn-color-background);\n",
              "  position: relative;\n",
              "}\n",
              "\n",
              "#sk-container-id-2 div.sk-parallel-item {\n",
              "  display: flex;\n",
              "  flex-direction: column;\n",
              "}\n",
              "\n",
              "#sk-container-id-2 div.sk-parallel-item:first-child::after {\n",
              "  align-self: flex-end;\n",
              "  width: 50%;\n",
              "}\n",
              "\n",
              "#sk-container-id-2 div.sk-parallel-item:last-child::after {\n",
              "  align-self: flex-start;\n",
              "  width: 50%;\n",
              "}\n",
              "\n",
              "#sk-container-id-2 div.sk-parallel-item:only-child::after {\n",
              "  width: 0;\n",
              "}\n",
              "\n",
              "/* Serial-specific style estimator block */\n",
              "\n",
              "#sk-container-id-2 div.sk-serial {\n",
              "  display: flex;\n",
              "  flex-direction: column;\n",
              "  align-items: center;\n",
              "  background-color: var(--sklearn-color-background);\n",
              "  padding-right: 1em;\n",
              "  padding-left: 1em;\n",
              "}\n",
              "\n",
              "\n",
              "/* Toggleable style: style used for estimator/Pipeline/ColumnTransformer box that is\n",
              "clickable and can be expanded/collapsed.\n",
              "- Pipeline and ColumnTransformer use this feature and define the default style\n",
              "- Estimators will overwrite some part of the style using the `sk-estimator` class\n",
              "*/\n",
              "\n",
              "/* Pipeline and ColumnTransformer style (default) */\n",
              "\n",
              "#sk-container-id-2 div.sk-toggleable {\n",
              "  /* Default theme specific background. It is overwritten whether we have a\n",
              "  specific estimator or a Pipeline/ColumnTransformer */\n",
              "  background-color: var(--sklearn-color-background);\n",
              "}\n",
              "\n",
              "/* Toggleable label */\n",
              "#sk-container-id-2 label.sk-toggleable__label {\n",
              "  cursor: pointer;\n",
              "  display: flex;\n",
              "  width: 100%;\n",
              "  margin-bottom: 0;\n",
              "  padding: 0.5em;\n",
              "  box-sizing: border-box;\n",
              "  text-align: center;\n",
              "  align-items: start;\n",
              "  justify-content: space-between;\n",
              "  gap: 0.5em;\n",
              "}\n",
              "\n",
              "#sk-container-id-2 label.sk-toggleable__label .caption {\n",
              "  font-size: 0.6rem;\n",
              "  font-weight: lighter;\n",
              "  color: var(--sklearn-color-text-muted);\n",
              "}\n",
              "\n",
              "#sk-container-id-2 label.sk-toggleable__label-arrow:before {\n",
              "  /* Arrow on the left of the label */\n",
              "  content: \"▸\";\n",
              "  float: left;\n",
              "  margin-right: 0.25em;\n",
              "  color: var(--sklearn-color-icon);\n",
              "}\n",
              "\n",
              "#sk-container-id-2 label.sk-toggleable__label-arrow:hover:before {\n",
              "  color: var(--sklearn-color-text);\n",
              "}\n",
              "\n",
              "/* Toggleable content - dropdown */\n",
              "\n",
              "#sk-container-id-2 div.sk-toggleable__content {\n",
              "  max-height: 0;\n",
              "  max-width: 0;\n",
              "  overflow: hidden;\n",
              "  text-align: left;\n",
              "  /* unfitted */\n",
              "  background-color: var(--sklearn-color-unfitted-level-0);\n",
              "}\n",
              "\n",
              "#sk-container-id-2 div.sk-toggleable__content.fitted {\n",
              "  /* fitted */\n",
              "  background-color: var(--sklearn-color-fitted-level-0);\n",
              "}\n",
              "\n",
              "#sk-container-id-2 div.sk-toggleable__content pre {\n",
              "  margin: 0.2em;\n",
              "  border-radius: 0.25em;\n",
              "  color: var(--sklearn-color-text);\n",
              "  /* unfitted */\n",
              "  background-color: var(--sklearn-color-unfitted-level-0);\n",
              "}\n",
              "\n",
              "#sk-container-id-2 div.sk-toggleable__content.fitted pre {\n",
              "  /* unfitted */\n",
              "  background-color: var(--sklearn-color-fitted-level-0);\n",
              "}\n",
              "\n",
              "#sk-container-id-2 input.sk-toggleable__control:checked~div.sk-toggleable__content {\n",
              "  /* Expand drop-down */\n",
              "  max-height: 200px;\n",
              "  max-width: 100%;\n",
              "  overflow: auto;\n",
              "}\n",
              "\n",
              "#sk-container-id-2 input.sk-toggleable__control:checked~label.sk-toggleable__label-arrow:before {\n",
              "  content: \"▾\";\n",
              "}\n",
              "\n",
              "/* Pipeline/ColumnTransformer-specific style */\n",
              "\n",
              "#sk-container-id-2 div.sk-label input.sk-toggleable__control:checked~label.sk-toggleable__label {\n",
              "  color: var(--sklearn-color-text);\n",
              "  background-color: var(--sklearn-color-unfitted-level-2);\n",
              "}\n",
              "\n",
              "#sk-container-id-2 div.sk-label.fitted input.sk-toggleable__control:checked~label.sk-toggleable__label {\n",
              "  background-color: var(--sklearn-color-fitted-level-2);\n",
              "}\n",
              "\n",
              "/* Estimator-specific style */\n",
              "\n",
              "/* Colorize estimator box */\n",
              "#sk-container-id-2 div.sk-estimator input.sk-toggleable__control:checked~label.sk-toggleable__label {\n",
              "  /* unfitted */\n",
              "  background-color: var(--sklearn-color-unfitted-level-2);\n",
              "}\n",
              "\n",
              "#sk-container-id-2 div.sk-estimator.fitted input.sk-toggleable__control:checked~label.sk-toggleable__label {\n",
              "  /* fitted */\n",
              "  background-color: var(--sklearn-color-fitted-level-2);\n",
              "}\n",
              "\n",
              "#sk-container-id-2 div.sk-label label.sk-toggleable__label,\n",
              "#sk-container-id-2 div.sk-label label {\n",
              "  /* The background is the default theme color */\n",
              "  color: var(--sklearn-color-text-on-default-background);\n",
              "}\n",
              "\n",
              "/* On hover, darken the color of the background */\n",
              "#sk-container-id-2 div.sk-label:hover label.sk-toggleable__label {\n",
              "  color: var(--sklearn-color-text);\n",
              "  background-color: var(--sklearn-color-unfitted-level-2);\n",
              "}\n",
              "\n",
              "/* Label box, darken color on hover, fitted */\n",
              "#sk-container-id-2 div.sk-label.fitted:hover label.sk-toggleable__label.fitted {\n",
              "  color: var(--sklearn-color-text);\n",
              "  background-color: var(--sklearn-color-fitted-level-2);\n",
              "}\n",
              "\n",
              "/* Estimator label */\n",
              "\n",
              "#sk-container-id-2 div.sk-label label {\n",
              "  font-family: monospace;\n",
              "  font-weight: bold;\n",
              "  display: inline-block;\n",
              "  line-height: 1.2em;\n",
              "}\n",
              "\n",
              "#sk-container-id-2 div.sk-label-container {\n",
              "  text-align: center;\n",
              "}\n",
              "\n",
              "/* Estimator-specific */\n",
              "#sk-container-id-2 div.sk-estimator {\n",
              "  font-family: monospace;\n",
              "  border: 1px dotted var(--sklearn-color-border-box);\n",
              "  border-radius: 0.25em;\n",
              "  box-sizing: border-box;\n",
              "  margin-bottom: 0.5em;\n",
              "  /* unfitted */\n",
              "  background-color: var(--sklearn-color-unfitted-level-0);\n",
              "}\n",
              "\n",
              "#sk-container-id-2 div.sk-estimator.fitted {\n",
              "  /* fitted */\n",
              "  background-color: var(--sklearn-color-fitted-level-0);\n",
              "}\n",
              "\n",
              "/* on hover */\n",
              "#sk-container-id-2 div.sk-estimator:hover {\n",
              "  /* unfitted */\n",
              "  background-color: var(--sklearn-color-unfitted-level-2);\n",
              "}\n",
              "\n",
              "#sk-container-id-2 div.sk-estimator.fitted:hover {\n",
              "  /* fitted */\n",
              "  background-color: var(--sklearn-color-fitted-level-2);\n",
              "}\n",
              "\n",
              "/* Specification for estimator info (e.g. \"i\" and \"?\") */\n",
              "\n",
              "/* Common style for \"i\" and \"?\" */\n",
              "\n",
              ".sk-estimator-doc-link,\n",
              "a:link.sk-estimator-doc-link,\n",
              "a:visited.sk-estimator-doc-link {\n",
              "  float: right;\n",
              "  font-size: smaller;\n",
              "  line-height: 1em;\n",
              "  font-family: monospace;\n",
              "  background-color: var(--sklearn-color-background);\n",
              "  border-radius: 1em;\n",
              "  height: 1em;\n",
              "  width: 1em;\n",
              "  text-decoration: none !important;\n",
              "  margin-left: 0.5em;\n",
              "  text-align: center;\n",
              "  /* unfitted */\n",
              "  border: var(--sklearn-color-unfitted-level-1) 1pt solid;\n",
              "  color: var(--sklearn-color-unfitted-level-1);\n",
              "}\n",
              "\n",
              ".sk-estimator-doc-link.fitted,\n",
              "a:link.sk-estimator-doc-link.fitted,\n",
              "a:visited.sk-estimator-doc-link.fitted {\n",
              "  /* fitted */\n",
              "  border: var(--sklearn-color-fitted-level-1) 1pt solid;\n",
              "  color: var(--sklearn-color-fitted-level-1);\n",
              "}\n",
              "\n",
              "/* On hover */\n",
              "div.sk-estimator:hover .sk-estimator-doc-link:hover,\n",
              ".sk-estimator-doc-link:hover,\n",
              "div.sk-label-container:hover .sk-estimator-doc-link:hover,\n",
              ".sk-estimator-doc-link:hover {\n",
              "  /* unfitted */\n",
              "  background-color: var(--sklearn-color-unfitted-level-3);\n",
              "  color: var(--sklearn-color-background);\n",
              "  text-decoration: none;\n",
              "}\n",
              "\n",
              "div.sk-estimator.fitted:hover .sk-estimator-doc-link.fitted:hover,\n",
              ".sk-estimator-doc-link.fitted:hover,\n",
              "div.sk-label-container:hover .sk-estimator-doc-link.fitted:hover,\n",
              ".sk-estimator-doc-link.fitted:hover {\n",
              "  /* fitted */\n",
              "  background-color: var(--sklearn-color-fitted-level-3);\n",
              "  color: var(--sklearn-color-background);\n",
              "  text-decoration: none;\n",
              "}\n",
              "\n",
              "/* Span, style for the box shown on hovering the info icon */\n",
              ".sk-estimator-doc-link span {\n",
              "  display: none;\n",
              "  z-index: 9999;\n",
              "  position: relative;\n",
              "  font-weight: normal;\n",
              "  right: .2ex;\n",
              "  padding: .5ex;\n",
              "  margin: .5ex;\n",
              "  width: min-content;\n",
              "  min-width: 20ex;\n",
              "  max-width: 50ex;\n",
              "  color: var(--sklearn-color-text);\n",
              "  box-shadow: 2pt 2pt 4pt #999;\n",
              "  /* unfitted */\n",
              "  background: var(--sklearn-color-unfitted-level-0);\n",
              "  border: .5pt solid var(--sklearn-color-unfitted-level-3);\n",
              "}\n",
              "\n",
              ".sk-estimator-doc-link.fitted span {\n",
              "  /* fitted */\n",
              "  background: var(--sklearn-color-fitted-level-0);\n",
              "  border: var(--sklearn-color-fitted-level-3);\n",
              "}\n",
              "\n",
              ".sk-estimator-doc-link:hover span {\n",
              "  display: block;\n",
              "}\n",
              "\n",
              "/* \"?\"-specific style due to the `<a>` HTML tag */\n",
              "\n",
              "#sk-container-id-2 a.estimator_doc_link {\n",
              "  float: right;\n",
              "  font-size: 1rem;\n",
              "  line-height: 1em;\n",
              "  font-family: monospace;\n",
              "  background-color: var(--sklearn-color-background);\n",
              "  border-radius: 1rem;\n",
              "  height: 1rem;\n",
              "  width: 1rem;\n",
              "  text-decoration: none;\n",
              "  /* unfitted */\n",
              "  color: var(--sklearn-color-unfitted-level-1);\n",
              "  border: var(--sklearn-color-unfitted-level-1) 1pt solid;\n",
              "}\n",
              "\n",
              "#sk-container-id-2 a.estimator_doc_link.fitted {\n",
              "  /* fitted */\n",
              "  border: var(--sklearn-color-fitted-level-1) 1pt solid;\n",
              "  color: var(--sklearn-color-fitted-level-1);\n",
              "}\n",
              "\n",
              "/* On hover */\n",
              "#sk-container-id-2 a.estimator_doc_link:hover {\n",
              "  /* unfitted */\n",
              "  background-color: var(--sklearn-color-unfitted-level-3);\n",
              "  color: var(--sklearn-color-background);\n",
              "  text-decoration: none;\n",
              "}\n",
              "\n",
              "#sk-container-id-2 a.estimator_doc_link.fitted:hover {\n",
              "  /* fitted */\n",
              "  background-color: var(--sklearn-color-fitted-level-3);\n",
              "}\n",
              "</style><div id=\"sk-container-id-2\" class=\"sk-top-container\"><div class=\"sk-text-repr-fallback\"><pre>LinearRegression()</pre><b>In a Jupyter environment, please rerun this cell to show the HTML representation or trust the notebook. <br />On GitHub, the HTML representation is unable to render, please try loading this page with nbviewer.org.</b></div><div class=\"sk-container\" hidden><div class=\"sk-item\"><div class=\"sk-estimator fitted sk-toggleable\"><input class=\"sk-toggleable__control sk-hidden--visually\" id=\"sk-estimator-id-2\" type=\"checkbox\" checked><label for=\"sk-estimator-id-2\" class=\"sk-toggleable__label fitted sk-toggleable__label-arrow\"><div><div>LinearRegression</div></div><div><a class=\"sk-estimator-doc-link fitted\" rel=\"noreferrer\" target=\"_blank\" href=\"https://scikit-learn.org/1.6/modules/generated/sklearn.linear_model.LinearRegression.html\">?<span>Documentation for LinearRegression</span></a><span class=\"sk-estimator-doc-link fitted\">i<span>Fitted</span></span></div></label><div class=\"sk-toggleable__content fitted\"><pre>LinearRegression()</pre></div> </div></div></div></div>"
            ]
          },
          "metadata": {},
          "execution_count": 25
        }
      ]
    },
    {
      "cell_type": "code",
      "source": [
        "print(model)"
      ],
      "metadata": {
        "colab": {
          "base_uri": "https://localhost:8080/"
        },
        "id": "snHbbMO-Rej1",
        "outputId": "3fcfbe63-67ff-46f4-bbce-fb97790237d4"
      },
      "execution_count": 26,
      "outputs": [
        {
          "output_type": "stream",
          "name": "stdout",
          "text": [
            "LinearRegression()\n"
          ]
        }
      ]
    },
    {
      "cell_type": "code",
      "source": [
        "# Apply model to test dataset\n",
        "test['Clarity_c'] = model.predict(test[['Clarity', 'Clarity_T', 'Clarity_RH']])\n",
        "\n",
        "# Apply to the entire dataset for plotting purposes\n",
        "sensor_data['Clarity_c'] = model.predict(sensor_data[['Clarity', 'Clarity_T', 'Clarity_RH']])"
      ],
      "metadata": {
        "id": "-YJJkTpeN_8W"
      },
      "execution_count": 27,
      "outputs": []
    },
    {
      "cell_type": "code",
      "source": [
        "# Calculate R2 and MAE for test data set only\n",
        "R2_test = model.score(test[['Clarity', 'Clarity_T', 'Clarity_RH']], test['FEM'])\n",
        "MAE_test = mean_absolute_error(test['FEM'], test['Clarity_c'])\n",
        "RMSE_test = np.sqrt(mean_squared_error(test['FEM'], test['Clarity_c']))"
      ],
      "metadata": {
        "id": "x0iY--PwO0bq"
      },
      "execution_count": 31,
      "outputs": []
    },
    {
      "cell_type": "code",
      "source": [],
      "metadata": {
        "id": "PPufPfb7TwXt"
      },
      "execution_count": null,
      "outputs": []
    },
    {
      "cell_type": "code",
      "source": [
        "# Plot data\n",
        "plt.figure(figsize=(10, 6))\n",
        "plt.plot(sensor_data.index, sensor_data['Clarity'], label='Clarity', color='purple')\n",
        "plt.plot(sensor_data.index, sensor_data['FEM'], label='FEM', color='mediumturquoise')\n",
        "plt.plot(sensor_data.index, sensor_data['Clarity_c'], label='Corrected Clarity', color='orange')\n",
        "plt.xlabel('Date')\n",
        "plt.ylabel('PM2.5 (ug/m3)')\n",
        "plt.title('Calibrated Clarity PM2.5')\n",
        "plt.legend()\n",
        "plt.xticks(rotation=45)\n",
        "plt.show()\n",
        "\n",
        "# Print model stats\n",
        "print(\"R^2 for test dataset:\", R2_test)\n",
        "print(\"MAE for test dataset:\", MAE_test)\n",
        "print(\"RMSE for test dataset:\", RMSE_test)"
      ],
      "metadata": {
        "colab": {
          "base_uri": "https://localhost:8080/",
          "height": 649
        },
        "id": "Y1Ve-IEvPM2O",
        "outputId": "19a674a2-3827-4412-d4ca-5ab1e3ab2ea8"
      },
      "execution_count": 32,
      "outputs": [
        {
          "output_type": "display_data",
          "data": {
            "text/plain": [
              "<Figure size 1000x600 with 1 Axes>"
            ],
            "image/png": "[encoded data removed]"
          },
          "metadata": {}
        },
        {
          "output_type": "stream",
          "name": "stdout",
          "text": [
            "R^2 for test dataset: 0.9058648749436755\n",
            "MAE for test dataset: 9.189109719968993\n",
            "RMSE for test dataset: 15.478493212608813\n"
          ]
        }
      ]
    },
    {
      "cell_type": "markdown",
      "source": [],
      "metadata": {
        "id": "c_r3zPEvSvx5"
      }
    },
    {
      "cell_type": "code",
      "source": [],
      "metadata": {
        "colab": {
          "base_uri": "https://localhost:8080/"
        },
        "id": "p-xSbvEoVcdQ",
        "outputId": "e45e2566-3f0f-427d-a416-b639b366259e"
      },
      "execution_count": 20,
      "outputs": [
        {
          "output_type": "stream",
          "name": "stdout",
          "text": [
            "RMSE for test dataset: 14.294885419763412\n"
          ]
        }
      ]
    },
    {
      "cell_type": "code",
      "source": [
        "#print model coefficients\n",
        "print(model.coef_)"
      ],
      "metadata": {
        "colab": {
          "base_uri": "https://localhost:8080/"
        },
        "id": "VHqhL00WQhVC",
        "outputId": "d27d5c73-527b-40a0-df5c-1f87e6b5277e"
      },
      "execution_count": 19,
      "outputs": [
        {
          "output_type": "stream",
          "name": "stdout",
          "text": [
            "[ 2.19710954 -2.83525051 -1.28852774]\n"
          ]
        }
      ]
    },
    {
      "cell_type": "code",
      "source": [
        "from sklearn.model_selection import LeaveOneOut\n",
        "from sklearn.linear_model import LinearRegression\n",
        "from sklearn.metrics import mean_squared_error, r2_score, mean_absolute_error\n",
        "import numpy as np\n",
        "import pandas as pd\n",
        "\n",
        "# Define features and target\n",
        "X = sensor_data[['Clarity', 'Clarity_T', 'Clarity_RH']]\n",
        "y = sensor_data['FEM']\n",
        "\n",
        "# Initialize LOOCV\n",
        "loocv = LeaveOneOut()\n",
        "\n",
        "# Lists to store predictions and true values\n",
        "y_true = []\n",
        "y_pred = []\n",
        "\n",
        "# Perform LOOCV\n",
        "for train_index, test_index in loocv.split(X):\n",
        "    X_train, X_test = X.iloc[train_index], X.iloc[test_index]\n",
        "    y_train, y_test = y.iloc[train_index], y.iloc[test_index]\n",
        "\n",
        "    # Train model\n",
        "    model = LinearRegression()\n",
        "    model.fit(X_train, y_train)\n",
        "\n",
        "    # Predict and store\n",
        "    prediction = model.predict(X_test)[0]\n",
        "    y_pred.append(prediction)\n",
        "    y_true.append(y_test.values[0])\n",
        "\n",
        "# Convert to numpy arrays\n",
        "y_true = np.array(y_true)\n",
        "y_pred = np.array(y_pred)\n",
        "\n",
        "# Calculate metrics\n",
        "avg_mae = mean_absolute_error(y_true, y_pred)\n",
        "avg_rmse = np.sqrt(mean_squared_error(y_true, y_pred))\n",
        "avg_r2 = r2_score(y_true, y_pred)\n",
        "\n",
        "# Print results\n",
        "print(\"Linear Regression Model with LOOCV on sensor_data\")\n",
        "print(\"-\" * 45)\n",
        "print(f\"R² (on all LOOCV predictions): {avg_r2:.4f}\")\n",
        "print(f\"MAE: {avg_mae:.4f}\")\n",
        "print(f\"RMSE: {avg_rmse:.4f}\")\n",
        "\n",
        "# Train on full dataset to get final coefficients\n",
        "full_model = LinearRegression()\n",
        "full_model.fit(X, y)\n",
        "\n",
        "print(\"\\nCoefficients (trained on full dataset):\")\n",
        "for i, col in enumerate(X.columns):\n",
        "    print(f\"{col}: {full_model.coef_[i]:.4f}\")\n",
        "print(f\"Intercept: {full_model.intercept_:.4f}\")\n"
      ],
      "metadata": {
        "colab": {
          "base_uri": "https://localhost:8080/"
        },
        "id": "XK8k-BafvAmE",
        "outputId": "fafd48a0-eaa8-4043-ec7c-b78054cb357b"
      },
      "execution_count": 21,
      "outputs": [
        {
          "output_type": "stream",
          "name": "stdout",
          "text": [
            "Linear Regression Model with LOOCV on sensor_data\n",
            "---------------------------------------------\n",
            "R² (on all LOOCV predictions): 0.9057\n",
            "MAE: 9.1016\n",
            "RMSE: 14.8825\n",
            "\n",
            "Coefficients (trained on full dataset):\n",
            "Clarity: 2.1922\n",
            "Clarity_T: -2.8131\n",
            "Clarity_RH: -1.2906\n",
            "Intercept: 166.6230\n"
          ]
        }
      ]
    },
    {
      "cell_type": "code",
      "source": [
        "from sklearn.model_selection import KFold\n",
        "from sklearn.linear_model import LinearRegression\n",
        "from sklearn.metrics import mean_squared_error, r2_score, mean_absolute_error\n",
        "import numpy as np\n",
        "import pandas as pd\n",
        "\n",
        "# Define features and target\n",
        "X = sensor_data[['Clarity', 'Clarity_T', 'Clarity_RH']]\n",
        "y = sensor_data['FEM']\n",
        "\n",
        "# Initialize K-Fold Cross-Validator\n",
        "k = 10  # You can change this to 5, 10, etc.\n",
        "kf = KFold(n_splits=k, shuffle=True, random_state=42)\n",
        "\n",
        "# Lists to store predictions and true values\n",
        "y_true = []\n",
        "y_pred = []\n",
        "\n",
        "# Perform K-Fold CV\n",
        "for train_index, test_index in kf.split(X):\n",
        "    X_train, X_test = X.iloc[train_index], X.iloc[test_index]\n",
        "    y_train, y_test = y.iloc[train_index], y.iloc[test_index]\n",
        "\n",
        "    # Train model\n",
        "    model = LinearRegression()\n",
        "    model.fit(X_train, y_train)\n",
        "\n",
        "    # Predict and store\n",
        "    predictions = model.predict(X_test)\n",
        "    y_pred.extend(predictions)\n",
        "    y_true.extend(y_test.values)\n",
        "\n",
        "# Convert to numpy arrays\n",
        "y_true = np.array(y_true)\n",
        "y_pred = np.array(y_pred)\n",
        "\n",
        "# Calculate metrics\n",
        "avg_mae = mean_absolute_error(y_true, y_pred)\n",
        "avg_rmse = np.sqrt(mean_squared_error(y_true, y_pred))\n",
        "avg_r2 = r2_score(y_true, y_pred)\n",
        "\n",
        "# Print results\n",
        "print(f\"Linear Regression Model with {k}-Fold Cross-Validation on sensor_data\")\n",
        "print(\"-\" * 55)\n",
        "print(f\"R²: {avg_r2:.4f}\")\n",
        "print(f\"MAE: {avg_mae:.4f}\")\n",
        "print(f\"RMSE: {avg_rmse:.4f}\")\n",
        "\n",
        "# Train on full dataset to get final coefficients\n",
        "full_model = LinearRegression()\n",
        "full_model.fit(X, y)\n",
        "\n",
        "print(\"\\nCoefficients (trained on full dataset):\")\n",
        "for i, col in enumerate(X.columns):\n",
        "    print(f\"{col}: {full_model.coef_[i]:.4f}\")\n",
        "print(f\"Intercept: {full_model.intercept_:.4f}\")\n"
      ],
      "metadata": {
        "colab": {
          "base_uri": "https://localhost:8080/"
        },
        "id": "Yz0FtKpuV1Av",
        "outputId": "2e7d296f-5015-4689-ed12-05fee718bf5c"
      },
      "execution_count": 26,
      "outputs": [
        {
          "output_type": "stream",
          "name": "stdout",
          "text": [
            "Linear Regression Model with 10-Fold Cross-Validation on sensor_data\n",
            "-------------------------------------------------------\n",
            "R²: 0.9057\n",
            "MAE: 9.1019\n",
            "RMSE: 14.8847\n",
            "\n",
            "Coefficients (trained on full dataset):\n",
            "Clarity: 2.1922\n",
            "Clarity_T: -2.8131\n",
            "Clarity_RH: -1.2906\n",
            "Intercept: 166.6230\n"
          ]
        }
      ]
    },
    {
      "cell_type": "code",
      "source": [
        "from sklearn.model_selection import RepeatedKFold\n",
        "from sklearn.linear_model import LinearRegression\n",
        "from sklearn.metrics import mean_squared_error, r2_score, mean_absolute_error\n",
        "import numpy as np\n",
        "import pandas as pd\n",
        "\n",
        "# Define features and target\n",
        "X = sensor_data[['Clarity', 'Clarity_T', 'Clarity_RH']]\n",
        "y = sensor_data['FEM']\n",
        "\n",
        "# Initialize Repeated K-Fold Cross-Validator\n",
        "k = 10           # number of folds\n",
        "n_repeats = 5    # number of repetitions\n",
        "rkf = RepeatedKFold(n_splits=k, n_repeats=n_repeats, random_state=42)\n",
        "\n",
        "# Lists to store predictions and true values\n",
        "y_true = []\n",
        "y_pred = []\n",
        "\n",
        "# Perform Repeated K-Fold CV\n",
        "for train_index, test_index in rkf.split(X):\n",
        "    X_train, X_test = X.iloc[train_index], X.iloc[test_index]\n",
        "    y_train, y_test = y.iloc[train_index], y.iloc[test_index]\n",
        "\n",
        "    # Train model\n",
        "    model = LinearRegression()\n",
        "    model.fit(X_train, y_train)\n",
        "\n",
        "    # Predict and store\n",
        "    predictions = model.predict(X_test)\n",
        "    y_pred.extend(predictions)\n",
        "    y_true.extend(y_test.values)\n",
        "\n",
        "# Convert to numpy arrays\n",
        "y_true = np.array(y_true)\n",
        "y_pred = np.array(y_pred)\n",
        "\n",
        "# Calculate metrics\n",
        "avg_mae = mean_absolute_error(y_true, y_pred)\n",
        "avg_rmse = np.sqrt(mean_squared_error(y_true, y_pred))\n",
        "avg_r2 = r2_score(y_true, y_pred)\n",
        "\n",
        "# Print results\n",
        "print(f\"Linear Regression Model with {k}-Fold Repeated {n_repeats} Times\")\n",
        "print(\"-\" * 60)\n",
        "print(f\"R²: {avg_r2:.4f}\")\n",
        "print(f\"MAE: {avg_mae:.4f}\")\n",
        "print(f\"RMSE: {avg_rmse:.4f}\")\n",
        "\n",
        "# Train on full dataset to get final coefficients\n",
        "full_model = LinearRegression()\n",
        "full_model.fit(X, y)\n",
        "\n",
        "print(\"\\nCoefficients (trained on full dataset):\")\n",
        "for i, col in enumerate(X.columns):\n",
        "    print(f\"{col}: {full_model.coef_[i]:.4f}\")\n",
        "print(f\"Intercept: {full_model.intercept_:.4f}\")\n"
      ],
      "metadata": {
        "colab": {
          "base_uri": "https://localhost:8080/"
        },
        "id": "gBvuuzLUQkWo",
        "outputId": "c13c1309-6cf9-4ebd-bd90-528f12781916"
      },
      "execution_count": 27,
      "outputs": [
        {
          "output_type": "stream",
          "name": "stdout",
          "text": [
            "Linear Regression Model with 10-Fold Repeated 5 Times\n",
            "------------------------------------------------------------\n",
            "R²: 0.9057\n",
            "MAE: 9.1022\n",
            "RMSE: 14.8830\n",
            "\n",
            "Coefficients (trained on full dataset):\n",
            "Clarity: 2.1922\n",
            "Clarity_T: -2.8131\n",
            "Clarity_RH: -1.2906\n",
            "Intercept: 166.6230\n"
          ]
        }
      ]
    }
  ]
}